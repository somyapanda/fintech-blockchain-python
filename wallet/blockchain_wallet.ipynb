{
 "cells": [
  {
   "cell_type": "markdown",
   "id": "5cd2ebab-4ef5-4de9-b067-f7286da747d0",
   "metadata": {},
   "source": [
    "## Multi-Blockchain Wallet in Python"
   ]
  },
  {
   "cell_type": "code",
   "execution_count": 1,
   "id": "45063036-71cd-4b8d-b5b3-d9c15f883d39",
   "metadata": {},
   "outputs": [],
   "source": [
    "# Import dependencies\n",
    "import subprocess\n",
    "import json\n",
    "import os\n",
    "import pprint\n",
    "\n",
    "# Import necessary functions from bit and web3\n",
    "from bit import PrivateKeyTestnet\n",
    "from bit.network import NetworkAPI\n",
    "from dotenv import load_dotenv\n",
    "from eth_account import Account\n",
    "from web3 import Web3\n",
    "from web3.gas_strategies.time_based import medium_gas_price_strategy\n",
    "\n",
    "# Import constants from constants.py\n",
    "from constants import *"
   ]
  },
  {
   "cell_type": "markdown",
   "id": "343f2340-15d6-428e-bb94-6aa5e1bc2477",
   "metadata": {},
   "source": [
    "## Nodes runing with POW"
   ]
  },
  {
   "cell_type": "code",
   "execution_count": 2,
   "id": "d48cda7e-fb4c-4624-9d4b-b3ff45cc6f76",
   "metadata": {},
   "outputs": [],
   "source": [
    "w3 = Web3(Web3.HTTPProvider(\"http://127.0.0.1:8545\"))"
   ]
  },
  {
   "cell_type": "markdown",
   "id": "2d5365f2-2538-4425-9044-171a2da18ae5",
   "metadata": {},
   "source": [
    "## Load and set environment variables"
   ]
  },
  {
   "cell_type": "code",
   "execution_count": 3,
   "id": "595cafb2-9300-4d9e-a9a0-ca53eb8933a0",
   "metadata": {},
   "outputs": [
    {
     "data": {
      "text/plain": [
       "True"
      ]
     },
     "execution_count": 3,
     "metadata": {},
     "output_type": "execute_result"
    }
   ],
   "source": [
    "load_dotenv()"
   ]
  },
  {
   "cell_type": "markdown",
   "id": "33e1d854-8c7c-4645-9f4c-f4b4ad756931",
   "metadata": {},
   "source": [
    "## Load mnemonic"
   ]
  },
  {
   "cell_type": "code",
   "execution_count": 4,
   "id": "75b402f9-2e82-4a8c-9f79-821b890dc98b",
   "metadata": {},
   "outputs": [],
   "source": [
    "mnemonic = os.getenv(\"mnemonic\")"
   ]
  },
  {
   "cell_type": "markdown",
   "id": "5abd63cb-04fc-46b9-a904-0baa20c726a4",
   "metadata": {},
   "source": [
    "## Create a function called `derive_wallets`"
   ]
  },
  {
   "cell_type": "code",
   "execution_count": 5,
   "id": "f9200296-3a0f-46e7-a51c-1f7c7c651289",
   "metadata": {},
   "outputs": [],
   "source": [
    "def derive_wallets(coin):\n",
    "    \"\"\"Use the subprocess library to create a shell command that calls the ./derive script from Python\"\"\"\n",
    "    command = 'php ./derive -g --mnemonic=\"'+ mnemonic +'\" --coin=' + coin + ' --numderive=3 --format=json'\n",
    "    p = subprocess.Popen(command, stdout=subprocess.PIPE, shell=True)\n",
    "    output, err = p.communicate()\n",
    "    p_status = p.wait()\n",
    "    return json.loads(output)"
   ]
  },
  {
   "cell_type": "markdown",
   "id": "961558ac-e5f0-478d-b8e5-66d670f111a5",
   "metadata": {},
   "source": [
    "## Create a dictionary object called coins to store the output from `derive_wallets`."
   ]
  },
  {
   "cell_type": "code",
   "execution_count": 6,
   "id": "3f72e943-83d8-41e6-b60b-fd157b1a06fc",
   "metadata": {},
   "outputs": [],
   "source": [
    "coins = {\n",
    "    ETH: derive_wallets(ETH),\n",
    "    BTCTEST: derive_wallets(BTCTEST)\n",
    "}"
   ]
  },
  {
   "cell_type": "code",
   "execution_count": 7,
   "id": "21343005-e7e6-4b2a-b0d9-3b1b402767bc",
   "metadata": {},
   "outputs": [
    {
     "name": "stdout",
     "output_type": "stream",
     "text": [
      "{ 'btc-test': [ { 'address': 'mgFom6U3NRxQNPBKX3nJCFxNpJ9xyqr7i1',\n",
      "                  'index': 0,\n",
      "                  'path': \"m/44'/1'/0'/0/0\",\n",
      "                  'privkey': 'cPQecWpPMHz8prFQJcgJXkNtYY6q9EicmvnGGWSdUckvQWCSQxEY',\n",
      "                  'pubkey': '03fe3db95714b7211f2c1fc33b09b9608f5505867b555a30f4857e7a785d7c0b2d',\n",
      "                  'pubkeyhash': '081ac341a13704ad0e74f460e21b3dc82da1e0e3',\n",
      "                  'xprv': 'tprv8jR2T3HCdScVrzC7iR4CNwdifnYWYsvUgQ3n8h2zkQ13uHMWLVSEgcyq5LTrKQ6wh2TZ5THthxmTdQiVvkMFGgj6zHe6SAhHLDe7W55Tx9m',\n",
      "                  'xpub': 'tpubDG74bTKSmpJAkTDuc4innMHqEp4SiD7PFheZRD5JAfoSjmcGxtFps7bhFWsTV71Q4wFx66PkdE1FH4t8fcoEdcjCwKevS6EmxjY2X7EkDMp'},\n",
      "                { 'address': 'msVBoDtk9UrSUjPj2n2RhdkeyxjcKiVUCD',\n",
      "                  'index': 1,\n",
      "                  'path': \"m/44'/1'/0'/0/1\",\n",
      "                  'privkey': 'cMef4N1BTAaR2ZLxFFHEMx93SjF46vG3cZLy8hay4CqsvGNCCFPg',\n",
      "                  'pubkey': '020831908859d896207d2e4a36f280649e10cf60b4baf97b674f78f12e47380abd',\n",
      "                  'pubkeyhash': '834bf2fb56853bac7cd972bb80caeb0c5795c0aa',\n",
      "                  'xprv': 'tprv8jR2T3HCdScVuFjVyE5jKvz3AagGz4BXk2yLqzviYhMn2kLDMjkhW7xCh5Rz1rExY9f15hqmtFfxknbZ1QosyebmYyN5mrfi9HigAuPejv7',\n",
      "                  'xpub': 'tpubDG74bTKSmpJAnimHrskKjLe9jcCD9PNSKLa88Wy1xyAAsEayz8aHgca4sCRbJ8C9XfL6XJxegePZYhJVxao5akHnp1vJ3dZtAuV3dQ8pqye'},\n",
      "                { 'address': 'mnBY5692gsrjUgBXvX4ufPLKZe6U2CiC7y',\n",
      "                  'index': 2,\n",
      "                  'path': \"m/44'/1'/0'/0/2\",\n",
      "                  'privkey': 'cQ8ywRrCD4i2WuPSHfcEBPt9Mt7aHQCcDCqDGQxVmzwEBcv3dpFU',\n",
      "                  'pubkey': '029ca1d243e30eef9454400b9aa22d073e9a39a58810fcefef4126f0077d6341ba',\n",
      "                  'pubkeyhash': '491cc1a561bc4fd18daece930129918bc2b5ca4a',\n",
      "                  'xprv': 'tprv8jR2T3HCdScVvWPeV1PPM48Z2GfX1eM4rHvNwmieq8H3MkGqfEzNz3goAKKJk9qJYReWjPgPU4uvxnq9Esxugkruuzxuchm2Pa4FfrdzfzW',\n",
      "                  'xpub': 'tpubDG74bTKSmpJAoyRSNf3ykTnfbJBTAyXyRbXAEHkxFQ5SCEXcHdoyAYJfLSsbAF26pb14oYgEBJAeEEbVvQUgLMQai4HKBzGhb5KMPAnXX3A'}],\n",
      "  'eth': [ { 'address': '0x7c63fb6a44327EDBC025907B1226e0Fdb04fF6b8',\n",
      "             'index': 0,\n",
      "             'path': \"m/44'/60'/0'/0/0\",\n",
      "             'privkey': '0x9be0a3547dea288bf6c6503b836d7aae36f35592b0057b10d627c6a540786d87',\n",
      "             'pubkey': '0314d00c1a56176d90df4fc1228e0480e1ddde5a1750d82a5c961b27f2419a76d2',\n",
      "             'pubkeyhash': '1e204bbbf1510ed0357f2a44d36afeb555ffac81',\n",
      "             'xprv': 'xprvA32W98t4WdiHuMkgziH1s6DdbCTELx1Zs4kTke385RwBj3R8DVkG6x1i4LuV2NbvDDVfg3xmQYWfQLnnqj9G8QEh1vAiGotXd4V7ALgjrXC',\n",
      "             'xpub': 'xpub6G1rYeQxM1Gb7qqA6jp2EEAN9EHikQjREHg4Z2SjdmUAbqkGm34WekLBucrWbPUkB4y6TAez9zicoFs41bbGsJFiJ583AsNLHjxLBC57AML'},\n",
      "           { 'address': '0x43d7F41ff92104A960bd2365E29fF72Ff26Ba1A2',\n",
      "             'index': 1,\n",
      "             'path': \"m/44'/60'/0'/0/1\",\n",
      "             'privkey': '0xb810f1e4caa926a36971f890cca5727d36a56bb375e2ff2128cc47a582a53b0c',\n",
      "             'pubkey': '024c8e5354bc9a379e3591d4e2fc5b9b5c9dcaf4c27944faf974476c518a76df2f',\n",
      "             'pubkeyhash': 'a53c1238bcfdeb299f91f6d9eccab1b4a75faa02',\n",
      "             'xprv': 'xprvA32W98t4WdiHve5CjMy6QA7Cv1tKPLDfRQriJpS7qBsVBqg4v1uc46i5A3zzKtpviXXfDzARR6adSDFXMBShn3cPBQjkAcBi1JdSBXpripv',\n",
      "             'xpub': 'xpub6G1rYeQxM1Gb989fqPW6mJ3wU3ionnwWndnK7CqjPXQU4e1DTZDrbu2Z1JDQZffDbyfPXrbNyCLw3Tsoyg829XYBgKrK5k9AKQEtmioagdS'},\n",
      "           { 'address': '0x80A045F604e1B7A8874B31b4Cc8A358eEbE8257f',\n",
      "             'index': 2,\n",
      "             'path': \"m/44'/60'/0'/0/2\",\n",
      "             'privkey': '0xdf639b32db097c4ab5608083076e92a88660a055f42c16fc0c8aacd7256ef324',\n",
      "             'pubkey': '02295e32fb0ab1b3cf0a3e689bf209d194f2caaa7ec396b72627d6cab91e4b001b',\n",
      "             'pubkeyhash': '65280adf6f3371cc1728bdc3a5e9e55e2cffac17',\n",
      "             'xprv': 'xprvA32W98t4WdiHza8KQwe8B6ouSDMHWDXfMQSUbhPpUxXxQ9AasmNikENYkQB7B4fSDRWhC6oHJk9yL8aYMGiXmU4BNWzkB2vd6JqoFmfEJd1',\n",
      "             'xpub': 'xpub6G1rYeQxM1GbD4CnWyB8YEkdzFBmugFWidN5Q5oS3J4wGwVjRJgyJ2h2bdpi8ZKwFM2yM51Tf5j3CPTV73nHdDjmHJkSr3EqBWSfBEebNsm'}]}\n"
     ]
    }
   ],
   "source": [
    "pp = pprint.PrettyPrinter(indent=2)\n",
    "pp.pprint(coins)"
   ]
  },
  {
   "cell_type": "code",
   "execution_count": 8,
   "id": "f1855a12-6692-459f-9afd-4bee1357fb36",
   "metadata": {},
   "outputs": [
    {
     "name": "stdout",
     "output_type": "stream",
     "text": [
      "0x9be0a3547dea288bf6c6503b836d7aae36f35592b0057b10d627c6a540786d87\n",
      "cPQecWpPMHz8prFQJcgJXkNtYY6q9EicmvnGGWSdUckvQWCSQxEY\n"
     ]
    }
   ],
   "source": [
    "eth_privkey = coins[ETH][0]['privkey']\n",
    "btc_privkey = coins[BTCTEST][0]['privkey']\n",
    "\n",
    "print(eth_privkey)\n",
    "print(btc_privkey)"
   ]
  },
  {
   "cell_type": "markdown",
   "id": "b8f33dfb-92b5-47f4-a91e-09d485ff2565",
   "metadata": {},
   "source": [
    "## Create a function called `priv_key_to_account` that will convert the privkey string in a child key to an account object that bit or web3.py can use to transact"
   ]
  },
  {
   "cell_type": "code",
   "execution_count": 9,
   "id": "2c42e6df-ef77-4370-9cae-54c68fe0d503",
   "metadata": {},
   "outputs": [],
   "source": [
    "def priv_key_to_account(coin, priv_key):\n",
    "    \"\"\"Create a function called `priv_key_to_account` that converts privkey strings to account objects.\"\"\"\n",
    "    if coin == ETH:\n",
    "        return Account.privateKeyToAccount(priv_key)\n",
    "    elif coin == BTCTEST:\n",
    "        return PrivateKeyTestnet(priv_key)"
   ]
  },
  {
   "cell_type": "code",
   "execution_count": 10,
   "id": "6eaddd6f-7e08-402c-a117-182863ad46f9",
   "metadata": {},
   "outputs": [
    {
     "name": "stdout",
     "output_type": "stream",
     "text": [
      "<eth_account.signers.local.LocalAccount object at 0x000000771C9756C8>\n",
      "<PrivateKeyTestnet: mgFom6U3NRxQNPBKX3nJCFxNpJ9xyqr7i1>\n"
     ]
    }
   ],
   "source": [
    "eth_acc = priv_key_to_account(ETH,eth_privkey)\n",
    "btc_acc = priv_key_to_account(BTCTEST,btc_privkey) \n",
    "\n",
    "print(eth_acc)\n",
    "print(btc_acc)"
   ]
  },
  {
   "cell_type": "markdown",
   "id": "259dee91-df6f-4cea-bafe-80c7f6c5dc5f",
   "metadata": {},
   "source": [
    "## Create a function called `create_tx` that will create the raw, unsigned transaction that contains all metadata needed to transact"
   ]
  },
  {
   "cell_type": "code",
   "execution_count": 11,
   "id": "430f4368-0712-4ca6-8e22-7e7fcab13943",
   "metadata": {},
   "outputs": [],
   "source": [
    "def create_tx(coin, account, to, amount):\n",
    "    if coin == ETH:\n",
    "        gasEstimate = w3.eth.estimateGas(\n",
    "            {\"from\": account.address, \"to\": to, \"value\": amount}\n",
    "        )\n",
    "        return {\n",
    "            'to': to,\n",
    "            'from': account.address,\n",
    "            'value': amount,\n",
    "            \"gasPrice\": w3.eth.gasPrice,\n",
    "            \"gas\": gasEstimate,\n",
    "            \"nonce\": w3.eth.getTransactionCount(account.address),\n",
    "        }\n",
    "    elif coin == BTCTEST:\n",
    "        return PrivateKeyTestnet.prepare_transaction(account.address, [(recipient, amount, BTC)])"
   ]
  },
  {
   "cell_type": "markdown",
   "id": "f353c301-a547-49b5-83f9-0e6b6a247904",
   "metadata": {},
   "source": [
    "## Create a function called `send_tx` that will call create_tx, signs and sends the transaction"
   ]
  },
  {
   "cell_type": "code",
   "execution_count": 12,
   "id": "13bd729a-3c50-40a0-b998-19dc0fc1941d",
   "metadata": {},
   "outputs": [],
   "source": [
    "def send_tx(coin, account, to, amount):\n",
    "    raw_tx = create_tx(coin, account, to, amount)\n",
    "    signed_tx = account.sign_transaction(raw_tx)\n",
    "    if coin == ETH:\n",
    "        result = w3.eth.sendRawTransaction(signed_tx.rawTransaction)\n",
    "        print(result.hex())\n",
    "        return result.hex()\n",
    "    elif coin == BTCTEST:\n",
    "        return NetworkAPI.broadcast_tx_testnet(signed_tx)"
   ]
  },
  {
   "cell_type": "markdown",
   "id": "d7a659a0-e11c-43a6-9c9c-2bda70fd4cbb",
   "metadata": {},
   "source": [
    "## Calling the functions to create, sign and execute transactions (BTCTest and ETH)"
   ]
  },
  {
   "cell_type": "markdown",
   "id": "de50f8fa-960e-4b26-9333-d8dd50be53f4",
   "metadata": {},
   "source": [
    "## Bitcoin Testnet transaction"
   ]
  },
  {
   "cell_type": "code",
   "execution_count": 12,
   "id": "fd09ad48-11f6-425b-85ba-e1e686145ef2",
   "metadata": {},
   "outputs": [
    {
     "data": {
      "text/plain": [
       "'{\"unspents\":[{\"amount\":333275,\"confirmations\":1,\"script\":\"76a914081ac341a13704ad0e74f460e21b3dc82da1e0e388ac\",\"txid\":\"9816ef0877d6098049742e5c392ec0c03cfc1dddbf2934e4b7640077cc7a4d01\",\"txindex\":1,\"type\":\"p2pkh\",\"vsize\":148,\"segwit\":false,\"sequence\":4294967295}],\"outputs\":[[\"msVBoDtk9UrSUjPj2n2RhdkeyxjcKiVUCD\",100000],[\"mgFom6U3NRxQNPBKX3nJCFxNpJ9xyqr7i1\",210223]]}'"
      ]
     },
     "execution_count": 12,
     "metadata": {},
     "output_type": "execute_result"
    }
   ],
   "source": [
    "# Create BTC transaction\n",
    "create_tx(BTCTEST, btc_acc, \"msVBoDtk9UrSUjPj2n2RhdkeyxjcKiVUCD\", 0.001)"
   ]
  },
  {
   "cell_type": "code",
   "execution_count": 14,
   "id": "a8e0fc9d-bf5e-492c-a048-1bc912b764c6",
   "metadata": {},
   "outputs": [],
   "source": [
    "#send BTC transaction\n",
    "send_tx(BTCTEST,btc_acc,'msVBoDtk9UrSUjPj2n2RhdkeyxjcKiVUCD',0.001)"
   ]
  },
  {
   "cell_type": "markdown",
   "id": "6641e9c0-ff19-46cd-9a55-5e77f0f9ca73",
   "metadata": {},
   "source": [
    "## Local PoA Ethereum transaction(Due to a bug in web3.py, you will need to send a transaction or two with MyCrypto first, since the w3.eth.generateGasPrice() function does not work with an empty chain. You can use one of the ETH address privkey, or one of the node keystore files)"
   ]
  },
  {
   "cell_type": "code",
   "execution_count": 11,
   "id": "8147e7c0-10c9-4fb8-ae72-5363e43caea1",
   "metadata": {},
   "outputs": [],
   "source": [
    "from web3.middleware import geth_poa_middleware\n",
    "\n",
    "w3.middleware_onion.inject(geth_poa_middleware, layer=0)"
   ]
  },
  {
   "cell_type": "code",
   "execution_count": 12,
   "id": "d9ca15f6-bb86-490f-83df-72effc810829",
   "metadata": {},
   "outputs": [],
   "source": [
    "from web3 import Web3, HTTPProvider"
   ]
  },
  {
   "cell_type": "markdown",
   "id": "626ccb8b-52a0-4c1e-afb3-a0bc28b2ec9e",
   "metadata": {},
   "source": [
    "## Connecting to HTTP with address pk"
   ]
  },
  {
   "cell_type": "code",
   "execution_count": 13,
   "id": "d58e94d0-da10-43cd-9df2-622094c80bd2",
   "metadata": {},
   "outputs": [],
   "source": [
    "w3 = Web3(Web3.HTTPProvider(\"http://127.0.0.1:8545\"))"
   ]
  },
  {
   "cell_type": "markdown",
   "id": "3ab51b94-ff6e-45ae-9f9c-bc69e1af9129",
   "metadata": {},
   "source": [
    "## Checking the Block Number"
   ]
  },
  {
   "cell_type": "code",
   "execution_count": 14,
   "id": "40b553f8-ca82-4de1-8c5f-f65216629d8c",
   "metadata": {},
   "outputs": [
    {
     "data": {
      "text/plain": [
       "74"
      ]
     },
     "execution_count": 14,
     "metadata": {},
     "output_type": "execute_result"
    }
   ],
   "source": [
    "w3.eth.blockNumber"
   ]
  },
  {
   "cell_type": "markdown",
   "id": "6cc7cec2-681f-4f53-8575-9295e3fceb43",
   "metadata": {},
   "source": [
    "## Double check if  I am connected to blockchain. "
   ]
  },
  {
   "cell_type": "code",
   "execution_count": 17,
   "id": "ff0875e9-3df5-4c5d-b03e-83dc427f6e2f",
   "metadata": {},
   "outputs": [
    {
     "data": {
      "text/plain": [
       "True"
      ]
     },
     "execution_count": 17,
     "metadata": {},
     "output_type": "execute_result"
    }
   ],
   "source": [
    "w3.isConnected()"
   ]
  },
  {
   "cell_type": "markdown",
   "id": "aaaab20d-1d58-4470-a538-689eff41acac",
   "metadata": {},
   "source": [
    "## Check the Balance of the account with local mining blockchain"
   ]
  },
  {
   "cell_type": "code",
   "execution_count": 18,
   "id": "bd1de4f0-aa52-4fda-b896-1d2903b5adde",
   "metadata": {},
   "outputs": [
    {
     "data": {
      "text/plain": [
       "904625697166532776746648320380374280103671755200316906559262354061821324312"
      ]
     },
     "execution_count": 18,
     "metadata": {},
     "output_type": "execute_result"
    }
   ],
   "source": [
    "w3.eth.getBalance(\"0x7c63fb6a44327EDBC025907B1226e0Fdb04fF6b8\")"
   ]
  },
  {
   "cell_type": "code",
   "execution_count": 19,
   "id": "9f395ea7-e342-44be-9c50-0fdce73e26f2",
   "metadata": {},
   "outputs": [
    {
     "data": {
      "text/plain": [
       "{'to': '0x43d7F41ff92104A960bd2365E29fF72Ff26Ba1A2',\n",
       " 'from': '0x7c63fb6a44327EDBC025907B1226e0Fdb04fF6b8',\n",
       " 'value': 2000,\n",
       " 'gasPrice': 1000000000,\n",
       " 'gas': 21000,\n",
       " 'nonce': 1}"
      ]
     },
     "execution_count": 19,
     "metadata": {},
     "output_type": "execute_result"
    }
   ],
   "source": [
    "create_tx(ETH, eth_acc,\"0x43d7F41ff92104A960bd2365E29fF72Ff26Ba1A2\", 2000)"
   ]
  },
  {
   "cell_type": "code",
   "execution_count": 20,
   "id": "f33644cd-6a72-4316-9090-22bdade8b375",
   "metadata": {},
   "outputs": [
    {
     "name": "stdout",
     "output_type": "stream",
     "text": [
      "0x2141c2f2fc0d0a9d463c6faba6966b2167a4b9700646cb852fdf32bfa9dd2e81\n"
     ]
    },
    {
     "data": {
      "text/plain": [
       "'0x2141c2f2fc0d0a9d463c6faba6966b2167a4b9700646cb852fdf32bfa9dd2e81'"
      ]
     },
     "execution_count": 20,
     "metadata": {},
     "output_type": "execute_result"
    }
   ],
   "source": [
    "send_tx(ETH,eth_acc,\"0x43d7F41ff92104A960bd2365E29fF72Ff26Ba1A2\", 2000)"
   ]
  },
  {
   "cell_type": "markdown",
   "id": "3f154bd5-b457-4d8f-8d4d-875da016b4dd",
   "metadata": {},
   "source": [
    "## Confirmation of Transaction"
   ]
  },
  {
   "cell_type": "code",
   "execution_count": 22,
   "id": "048d0206-683a-4294-9af7-e76f1bd74bab",
   "metadata": {},
   "outputs": [
    {
     "data": {
      "text/plain": [
       "1000000000000001000"
      ]
     },
     "execution_count": 22,
     "metadata": {},
     "output_type": "execute_result"
    }
   ],
   "source": [
    "w3.eth.getBalance(\"0x43d7F41ff92104A960bd2365E29fF72Ff26Ba1A2\")"
   ]
  }
 ],
 "metadata": {
  "kernelspec": {
   "display_name": "Python 3",
   "language": "python",
   "name": "python3"
  },
  "language_info": {
   "codemirror_mode": {
    "name": "ipython",
    "version": 3
   },
   "file_extension": ".py",
   "mimetype": "text/x-python",
   "name": "python",
   "nbconvert_exporter": "python",
   "pygments_lexer": "ipython3",
   "version": "3.8.8"
  }
 },
 "nbformat": 4,
 "nbformat_minor": 5
}
